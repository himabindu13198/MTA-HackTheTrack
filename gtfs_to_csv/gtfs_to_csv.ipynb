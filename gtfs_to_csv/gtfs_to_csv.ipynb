{
 "cells": [
  {
   "cell_type": "code",
   "execution_count": null,
   "metadata": {},
   "outputs": [],
   "source": [
    "import csv\n",
    "\n",
    "base_gtfs = \"/Users/home/Desktop/mn-hackathon/mtamnrhackathon/MNR_GTFS_Schedules\"\n"
   ]
  },
  {
   "cell_type": "code",
   "execution_count": null,
   "metadata": {},
   "outputs": [],
   "source": [
    "with open(os.path.join(base_gtfs, \"agency.txt\"), \"r\", newline=\"\") as infile:\n",
    "    reader = csv.reader(infile)\n",
    "    agencies_by_id = {row[0]: row[1] for row in list(reader)[1:]}\n",
    "agencies_by_id\n"
   ]
  },
  {
   "cell_type": "code",
   "execution_count": null,
   "metadata": {},
   "outputs": [],
   "source": [
    "\n",
    "with open(os.path.join(base_gtfs, \"calendar_dates.txt\"), \"r\", newline=\"\") as infile:\n",
    "    reader = csv.DictReader(infile)\n",
    "    service_dates_by_id = {}\n",
    "    for row in reader:\n",
    "        if row[\"exception_type\"] == \"1\":\n",
    "            if row[\"service_id\"] not in service_dates_by_id:\n",
    "                service_dates_by_id[row[\"service_id\"]] = []\n",
    "            service_dates_by_id[row[\"service_id\"]].append(row[\"date\"])\n",
    "for service_id in list(service_dates_by_id):\n",
    "    service_dates_by_id[service_id] = sorted(service_dates_by_id[service_id])\n",
    "\n",
    "service_dates_by_id"
   ]
  },
  {
   "cell_type": "code",
   "execution_count": null,
   "metadata": {},
   "outputs": [],
   "source": [
    "with open(os.path.join(base_gtfs, \"notes.txt\"), \"r\", newline=\"\") as infile:\n",
    "    reader = csv.DictReader(infile)\n",
    "    notes_by_note_id = {row[\"note_id\"]: row[\"note_desc\"] for row in reader}\n",
    "notes_by_note_id"
   ]
  },
  {
   "cell_type": "code",
   "execution_count": null,
   "metadata": {},
   "outputs": [],
   "source": [
    "GTFS_ROUTE_TYPES = {\n",
    "    \"0\": \"Tram\",\n",
    "    \"1\": \"Metro\",\n",
    "    \"2\": \"Rail\",\n",
    "    \"3\": \"Bus\",\n",
    "    \"4\": \"Ferry\",\n",
    "    \"5\": \"Cable tram\",\n",
    "    \"6\": \"Aerial lift\",\n",
    "    \"7\": \"Funicular\",\n",
    "    \"11\": \"Trolleybus\",\n",
    "    \"12\": \"Monorail\",\n",
    "}\n",
    "with open(os.path.join(base_gtfs, \"routes.txt\"), \"r\", newline=\"\") as infile:\n",
    "    reader = csv.DictReader(infile)\n",
    "    routes_by_route_id = {row[\"route_id\"]: {\n",
    "        \"route\": row[\"route_long_name\"],\n",
    "        \"agency\": agencies_by_id[row[\"agency_id\"]],\n",
    "        \"route_type\": GTFS_ROUTE_TYPES[row[\"route_type\"]],\n",
    "        \"route_color\": row[\"route_color\"],\n",
    "        \"route_text_color\": row[\"route_text_color\"],\n",
    "    }\n",
    "        for row in reader}\n",
    "routes_by_route_id"
   ]
  },
  {
   "cell_type": "code",
   "execution_count": 13,
   "metadata": {},
   "outputs": [
    {
     "output_type": "execute_result",
     "data": {
      "text/plain": "\n  'trip_short_name': 'B6834',\n  'direction_id': '0',\n  'shape_id': '34',\n  'wheelchair_accessible': '1',\n  'peak_offpeak': '0',\n  'route': 'Danbury',\n  'agency': 'Metro-North Railroad',\n  'route_type': 'Rail',\n  'route_color': 'EE0034',\n  'route_text_color': 'FFFFFF'},\n {'route_id': '5',\n  'service_id': '8446',\n  'trip_id': '10009011',\n  'trip_headsign': 'South Norwalk',\n  'trip_short_name': 'B6837',\n  'direction_id': '1',\n  'shape_id': '33',\n  'wheelchair_accessible': '1',\n  'peak_offpeak': '0',\n  'route': 'Danbury',\n  'agency': 'Metro-North Railroad',\n  'route_type': 'Rail',\n  'route_color': 'EE0034',\n  'route_text_color': 'FFFFFF'},\n {'route_id': '5',\n  'service_id': '8446',\n  'trip_id': '10009012',\n  'trip_headsign': 'Danbury',\n  'trip_short_name': 'B6846',\n  'direction_id': '0',\n  'shape_id': '34',\n  'wheelchair_accessible': '1',\n  'peak_offpeak': '0',\n  'route': 'Danbury',\n  'agency': 'Metro-North Railroad',\n  'route_type': 'Rail',\n  'route_color': 'EE0034',\n  'route_text_color': 'FFFFFF'},\n {'route_id': '5',\n  'service_id': '8446',\n  'trip_id': '10009013',\n  'trip_headsign': 'South Norwalk',\n  'trip_short_name': 'B6849',\n  'direction_id': '1',\n  'shape_id': '33',\n  'wheelchair_accessible': '1',\n  'peak_offpeak': '0',\n  'route': 'Danbury',\n  'agency': 'Metro-North Railroad',\n  'route_type': 'Rail',\n  'route_color': 'EE0034',\n  'route_text_color': 'FFFFFF'},\n {'route_id': '5',\n  'service_id': '8446',\n  'trip_id': '10009014',\n  'trip_headsign': 'South Norwalk',\n  'trip_short_name': 'B6861',\n  'direction_id': '1',\n  'shape_id': '33',\n  'wheelchair_accessible': '1',\n  'peak_offpeak': '0',\n  'route': 'Danbury',\n  'agency': 'Metro-North Railroad',\n  'route_type': 'Rail',\n  'route_color': 'EE0034',\n  'route_text_color': 'FFFFFF'},\n {'route_id': '5',\n  'service_id': '8446',\n  'trip_id': '10009015',\n  'trip_headsign': 'Danbury',\n  'trip_short_name': 'B6862',\n  'direction_id': '0',\n  'shape_id': '34',\n  'wheelchair_accessible': '1',\n  'peak_offpeak': '0',\n  'route': 'Danbury',\n  'agency': 'Metro-North Railroad',\n  'route_type': 'Rail',\n  'route_color': 'EE0034',\n  'route_text_color': 'FFFFFF'},\n {'route_id': '5',\n  'service_id': '8446',\n  'trip_id': '10009016',\n  'trip_headsign': 'Danbury',\n  'trip_short_name': 'B6870',\n  'direction_id': '0',\n  'shape_id': '34',\n  'wheelchair_accessible': '1',\n  'peak_offpeak': '0',\n  'route': 'Danbury',\n  'agency': 'Metro-North Railroad',\n  'route_type': 'Rail',\n  'route_color': 'EE0034',\n  'route_text_color': 'FFFFFF'},\n {'route_id': '5',\n  'service_id': '8446',\n  'trip_id': '10009017',\n  'trip_headsign': 'South Norwalk',\n  'trip_short_name': 'B6873',\n  'direction_id': '1',\n  'shape_id': '33',\n  'wheelchair_accessible': '1',\n  'peak_offpeak': '0',\n  'route': 'Danbury',\n  'agency': 'Metro-North Railroad',\n  'route_type': 'Rail',\n  'route_color': 'EE0034',\n  'route_text_color': 'FFFFFF'},\n {'route_id': '6',\n  'service_id': '8446',\n  'trip_id': '10009018',\n  'trip_headsign': 'Waterbury',\n  'trip_short_name': 'B6906',\n  'direction_id': '0',\n  'shape_id': '48',\n  'wheelchair_accessible': '1',\n  'peak_offpeak': '0',\n  'route': 'Waterbury',\n  'agency': 'Metro-North Railroad',\n  'route_type': 'Rail',\n  'route_color': 'EE0034',\n  'route_text_color': 'FFFFFF'},\n {'route_id': '6',\n  'service_id': '8446',\n  'trip_id': '10009019',\n  'trip_headsign': 'Bridgeport',\n  'trip_short_name': 'B6913',\n  'direction_id': '1',\n  'shape_id': '47',\n  'wheelchair_accessible': '1',\n  'peak_offpeak': '0',\n  'route': 'Waterbury',\n  'agency': 'Metro-North Railroad',\n  'route_type': 'Rail',\n  'route_color': 'EE0034',\n  'route_text_color': 'FFFFFF'},\n {'route_id': '6',\n  'service_id': '8446',\n  'trip_id': '10009020',\n  'trip_headsign': 'Waterbury',\n  'trip_short_name': 'B6918',\n  'direction_id': '0',\n  'shape_id': '48',\n  'wheelchair_accessible': '1',\n  'peak_offpeak': '0',\n  'route': 'Waterbury',\n  'agency': 'Metro-North Railroad',\n  'route_type': 'Rail',\n  'route_color': 'EE0034',\n  'route_text_color': 'FFFFFF'},\n {'route_id': '6',\n  'service_id': '8446',\n  'trip_id': '10009021',\n  'trip_headsign': 'Bridgeport',\n  'trip_short_name': 'B6925',\n  'direction_id': '1',\n  'shape_id': '47',\n  'wheelchair_accessible': '1',\n  'peak_offpeak': '0',\n  'route': 'Waterbury',\n  'agency': 'Metro-North Railroad',\n  'route_type': 'Rail',\n  'route_color': 'EE0034',\n  'route_text_color': 'FFFFFF'},\n {'route_id': '6',\n  'service_id': '8446',\n  'trip_id': '10009022',\n  'trip_headsign': 'Waterbury',\n  'trip_short_name': 'B6930',\n  'direction_id': '0',\n  'shape_id': '48',\n  'wheelchair_accessible': '1',\n  'peak_offpeak': '0',\n  'route': 'Waterbury',\n  'agency': 'Metro-North Railroad',\n  'route_type': 'Rail',\n  'route_color': 'EE0034',\n  'route_text_color': 'FFFFFF'},\n {'route_id': '6',\n  'service_id': '8446',\n  'trip_id': '10009023',\n  'trip_headsign': 'Bridgeport',\n  'trip_short_name': 'B6937',\n  'direction_id': '1',\n  'shape_id': '47',\n  'wheelchair_accessible': '1',\n  'peak_offpeak': '0',\n  'route': 'Waterbury',\n  'agency': 'Metro-North Railroad',\n  'route_type': 'Rail',\n  'route_color': 'EE0034',\n  'route_text_color': 'FFFFFF'},\n {'route_id': '6',\n  'service_id': '8446',\n  'trip_id': '10009024',\n  'trip_headsign': 'Waterbury',\n  'trip_short_name': 'B6942',\n  'direction_id': '0',\n  'shape_id': '48',\n  'wheelchair_accessible': '1',\n  'peak_offpeak': '0',\n  'route': 'Waterbury',\n  'agency': 'Metro-North Railroad',\n  'route_type': 'Rail',\n  'route_color': 'EE0034',\n  'route_text_color': 'FFFFFF'},\n {'route_id': '6',\n  'service_id': '8446',\n  'trip_id': '10009025',\n  'trip_headsign': 'Waterbury',\n  'trip_short_name': 'B6948',\n  'direction_id': '0',\n  'shape_id': '48',\n  'wheelchair_accessible': '1',\n  'peak_offpeak': '0',\n  'route': 'Waterbury',\n  'agency': 'Metro-North Railroad',\n  'route_type': 'Rail',\n  'route_color': 'EE0034',\n  'route_text_color': 'FFFFFF'},\n {'route_id': '6',\n  'service_id': '8446',\n  'trip_id': '10009026',\n  'trip_headsign': 'Bridgeport',\n  'trip_short_name': 'B6949',\n  'direction_id': '1',\n  'shape_id': '47',\n  'wheelchair_accessible': '1',\n  'peak_offpeak': '0',\n  'route': 'Waterbury',\n  'agency': 'Metro-North Railroad',\n  'route_type': 'Rail',\n  'route_color': 'EE0034',\n  'route_text_color': 'FFFFFF'},\n {'route_id': '6',\n  'service_id': '8446',\n  'trip_id': '10009027',\n  'trip_headsign': 'Waterbury',\n  'trip_short_name': 'B6954',\n  'direction_id': '0',\n  'shape_id': '48',\n  'wheelchair_accessible': '1',\n  'peak_offpeak': '0',\n  'route': 'Waterbury',\n  'agency': 'Metro-North Railroad',\n  'route_type': 'Rail',\n  'route_color': 'EE0034',\n  'route_text_color': 'FFFFFF'},\n {'route_id': '6',\n  'service_id': '8446',\n  'trip_id': '10009028',\n  'trip_headsign': 'Bridgeport',\n  'trip_short_name': 'B6957',\n  'direction_id': '1',\n  'shape_id': '47',\n  'wheelchair_accessible': '1',\n  'peak_offpeak': '0',\n  'route': 'Waterbury',\n  'agency': 'Metro-North Railroad',\n  'route_type': 'Rail',\n  'route_color': 'EE0034',\n  'route_text_color': 'FFFFFF'},\n {'route_id': '6',\n  'service_id': '8446',\n  'trip_id': '10009029',\n  'trip_headsign': 'Bridgeport',\n  'trip_short_name': 'B6961',\n  'direction_id': '1',\n  'shape_id': '47',\n  'wheelchair_accessible': '1',\n  'peak_offpeak': '0',\n  'route': 'Waterbury',\n  'agency': 'Metro-North Railroad',\n  'route_type': 'Rail',\n  'route_color': 'EE0034',\n  'route_text_color': 'FFFFFF'},\n {'route_id': '6',\n  'service_id': '8446',\n  'trip_id': '10009030',\n  'trip_headsign': 'Waterbury',\n  'trip_short_name': 'B6966',\n  'direction_id': '0',\n  'shape_id': '48',\n  'wheelchair_accessible': '1',\n  'peak_offpeak': '0',\n  'route': 'Waterbury',\n  'agency': 'Metro-North Railroad',\n  'route_type': 'Rail',\n  'route_color': 'EE0034',\n  'route_text_color': 'FFFFFF'},\n {'route_id': '6',\n  'service_id': '8446',\n  'trip_id': '10009031',\n  'trip_headsign': 'Bridgeport',\n  'trip_short_name': 'B6971',\n  'direction_id': '1',\n  'shape_id': '47',\n  'wheelchair_accessible': '1',\n  'peak_offpeak': '0',\n  'route': 'Waterbury',\n  'agency': 'Metro-North Railroad',\n  'route_type': 'Rail',\n  'route_color': 'EE0034',\n  'route_text_color': 'FFFFFF'},\n {'route_id': '1',\n  'service_id': '8446',\n  'trip_id': '10009032',\n  'trip_headsign': 'Grand Central',\n  'trip_short_name': '4806',\n  'direction_id': '1',\n  'shape_id': '1',\n  'wheelchair_accessible': '1',\n  'peak_offpeak': '0',\n  'route': 'Hudson',\n  'agency': 'Metro-North Railroad',\n  'route_type': 'Rail',\n  'route_color': '009B3A',\n  'route_text_color': 'FFFFFF'},\n {'route_id': '1',\n  'service_id': '8446',\n  'trip_id': '10009033',\n  'trip_headsign': 'Grand Central',\n  'trip_short_name': '8706',\n  'direction_id': '1',\n  'shape_id': '1',\n  'wheelchair_accessible': '1',\n  'peak_offpeak': '0',\n  'route': 'Hudson',\n  'agency': 'Metro-North Railroad',\n  'route_type': 'Rail',\n  'route_color': '009B3A',\n  'route_text_color': 'FFFFFF'},\n {'route_id': '1',\n  'service_id': '8446',\n  'trip_id': '10009034',\n  'trip_headsign': 'Croton-Harmon',\n  'trip_short_name': '8741',\n  'direction_id': '0',\n  'shape_id': '12',\n  'wheelchair_accessible': '1',\n  'peak_offpeak': '0',\n  'route': 'Hudson',\n  'agency': 'Metro-North Railroad',\n  'route_type': 'Rail',\n  'route_color': '009B3A',\n  'route_text_color': 'FFFFFF'},\n {'route_id': '1',\n  'service_id': '8446',\n  'trip_id': '10009035',\n  'trip_headsign': 'Poughkeepsie',\n  'trip_short_name': '8841',\n  'direction_id': '0',\n  'shape_id': '12',\n  'wheelchair_accessible': '1',\n  'peak_offpeak': '0',\n  'route': 'Hudson',\n  'agency': 'Metro-North Railroad',\n  'route_type': 'Rail',\n  'route_color': '009B3A',\n  'route_text_color': 'FFFFFF'},\n {'route_id': '2',\n  'service_id': '8446',\n  'trip_id': '10009036',\n  'trip_headsign': 'Grand Central',\n  'trip_short_name': '4604',\n  'direction_id': '1',\n  'shape_id': '3',\n  'wheelchair_accessible': '1',\n  'peak_offpeak': '0',\n  'route': 'Harlem',\n  'agency': 'Metro-North Railroad',\n  'route_type': 'Rail',\n  'route_color': '0039A6',\n  'route_text_color': 'FFFFFF'},\n {'route_id': '2',\n  'service_id': '8446',\n  'trip_id': '10009037',\n  'trip_headsign': 'Grand Central',\n  'trip_short_name': '9500',\n  'direction_id': '1',\n  'shape_id': '3',\n  'wheelchair_accessible': '1',\n  'peak_offpeak': '0',\n  'route': 'Harlem',\n  'agency': 'Metro-North Railroad',\n  'route_type': 'Rail',\n  'route_color': '0039A6',\n  'route_text_color': 'FFFFFF'},\n {'route_id': '2',\n  'service_id': '8446',\n  'trip_id': '10009038',\n  'trip_headsign': 'Grand Central',\n  'trip_short_name': '9504',\n  'direction_id': '1',\n  'shape_id': '3',\n  'wheelchair_accessible': '1',\n  'peak_offpeak': '0',\n  'route': 'Harlem',\n  'agency': 'Metro-North Railroad',\n  'route_type': 'Rail',\n  'route_color': '0039A6',\n  'route_text_color': 'FFFFFF'},\n {'route_id': '2',\n  'service_id': '8446',\n  'trip_id': '10009039',\n  'trip_headsign': 'Grand Central',\n  'trip_short_name': '9540',\n  'direction_id': '1',\n  'shape_id': '3',\n  'wheelchair_accessible': '1',\n  'peak_offpeak': '0',\n  'route': 'Harlem',\n  'agency': 'Metro-North Railroad',\n  'route_type': 'Rail',\n  'route_color': '0039A6',\n  'route_text_color': 'FFFFFF'},\n {'route_id': '2',\n  'service_id': '8446',\n  'trip_id': '10009040',\n  'trip_headsign': 'North White Plains',\n  'trip_short_name': '9509',\n  'direction_id': '0',\n  'shape_id': '14',\n  'wheelchair_accessible': '1',\n  'peak_offpeak': '0',\n  'route': 'Harlem',\n  'agency': 'Metro-North Railroad',\n  'route_type': 'Rail',\n  'route_color': '0039A6',\n  'route_text_color': 'FFFFFF'},\n {'route_id': '2',\n  'service_id': '8446',\n  'trip_id': '10009041',\n  'trip_headsign': 'North White Plains',\n  'trip_short_name': '9541',\n  'direction_id': '0',\n  'shape_id': '14',\n  'wheelchair_accessible': '1',\n  'peak_offpeak': '0',\n  'route': 'Harlem',\n  'agency': 'Metro-North Railroad',\n  'route_type': 'Rail',\n  'route_color': '0039A6',\n  'route_text_color': 'FFFFFF'},\n {'route_id': '2',\n  'service_id': '8446',\n  'trip_id': '10009042',\n  'trip_headsign': 'North White Plains',\n  'trip_short_name': '9545',\n  'direction_id': '0',\n  'shape_id': '14',\n  'wheelchair_accessible': '1',\n  'peak_offpeak': '0',\n  'route': 'Harlem',\n  'agency': 'Metro-North Railroad',\n  'route_type': 'Rail',\n  'route_color': '0039A6',\n  'route_text_color': 'FFFFFF'},\n {'route_id': '2',\n  'service_id': '8446',\n  'trip_id': '10009043',\n  'trip_headsign': 'Southeast',\n  'trip_short_name': '9645',\n  'direction_id': '0',\n  'shape_id': '14',\n  'wheelchair_accessible': '1',\n  'peak_offpeak': '0',\n  'route': 'Harlem',\n  'agency': 'Metro-North Railroad',\n  'route_type': 'Rail',\n  'route_color': '0039A6',\n  'route_text_color': 'FFFFFF'},\n {'route_id': '3',\n  'service_id': '8446',\n  'trip_id': '10009044',\n  'trip_headsign': 'Grand Central',\n  'trip_short_name': '3509',\n  'direction_id': '1',\n  'shape_id': '5',\n  'wheelchair_accessible': '1',\n  'peak_offpeak': '0',\n  'route': 'New Haven',\n  'agency': 'Metro-North Railroad',\n  'route_type': 'Rail',\n  'route_color': 'EE0034',\n  'route_text_color': 'FFFFFF'},\n {'route_id': '3',\n  'service_id': '8446',\n  'trip_id': '10009045',\n  'trip_headsign': 'Grand Central',\n  'trip_short_name': '6203',\n  'direction_id': '1',\n  'shape_id': '5',\n  'wheelchair_accessible': '1',\n  'peak_offpeak': '0',\n  'route': 'New Haven',\n  'agency': 'Metro-North Railroad',\n  'route_type': 'Rail',\n  'route_color': 'EE0034',\n  'route_text_color': 'FFFFFF'},\n {'route_id': '3',\n  'service_id': '8446',\n  'trip_id': '10009046',\n  'trip_headsign': 'Grand Central',\n  'trip_short_name': '6307',\n  'direction_id': '1',\n  'shape_id': '5',\n  'wheelchair_accessible': '1',\n  'peak_offpeak': '0',\n  'route': 'New Haven',\n  'agency': 'Metro-North Railroad',\n  'route_type': 'Rail',\n  'route_color': 'EE0034',\n  'route_text_color': 'FFFFFF'},\n {'route_id': '3',\n  'service_id': '8446',\n  'trip_id': '10009047',\n  'trip_headsign': 'Stamford',\n  'trip_short_name': '6344',\n  'direction_id': '0',\n  'shape_id': '16',\n  'wheelchair_accessible': '1',\n  'peak_offpeak': '0',\n  'route': 'New Haven',\n  'agency': 'Metro-North Railroad',\n  'route_type': 'Rail',\n  'route_color': 'EE0034',\n  'route_text_color': 'FFFFFF'},\n {'route_id': '3',\n  'service_id': '8446',\n  'trip_id': '10009048',\n  'trip_headsign': 'Stamford',\n  'trip_short_name': '6348',\n  'direction_id': '0',\n  'shape_id': '16',\n  'wheelchair_accessible': '1',\n  'peak_offpeak': '0',\n  'route': 'New Haven',\n  'agency': 'Metro-North Railroad',\n  'route_type': 'Rail',\n  'route_color': 'EE0034',\n  'route_text_color': 'FFFFFF'},\n {'route_id': '3',\n  'service_id': '8446',\n  'trip_id': '10009049',\n  'trip_headsign': 'New Haven',\n  'trip_short_name': '6544',\n  'direction_id': '0',\n  'shape_id': '16',\n  'wheelchair_accessible': '1',\n  'peak_offpeak': '0',\n  'route': 'New Haven',\n  'agency': 'Metro-North Railroad',\n  'route_type': 'Rail',\n  'route_color': 'EE0034',\n  'route_text_color': 'FFFFFF'},\n {'route_id': '3',\n  'service_id': '8447',\n  'trip_id': '10009389',\n  'trip_headsign': 'Stamford',\n  'trip_short_name': '6300',\n  'direction_id': '0',\n  'shape_id': '16',\n  'wheelchair_accessible': '1',\n  'peak_offpeak': '0',\n  'route': 'New Haven',\n  'agency': 'Metro-North Railroad',\n  'route_type': 'Rail',\n  'route_color': 'EE0034',\n  'route_text_color': 'FFFFFF'},\n {'route_id': '3',\n  'service_id': '8447',\n  'trip_id': '10009390',\n  'trip_headsign': 'Grand Central',\n  'trip_short_name': '6301',\n  'direction_id': '1',\n  'shape_id': '5',\n  'wheelchair_accessible': '1',\n  'peak_offpeak': '0',\n  'route': 'New Haven',\n  'agency': 'Metro-North Railroad',\n  'route_type': 'Rail',\n  'route_color': 'EE0034',\n  'route_text_color': 'FFFFFF'},\n {'route_id': '3',\n  'service_id': '8447',\n  'trip_id': '10009391',\n  'trip_headsign': 'Stamford',\n  'trip_short_name': '6302',\n  'direction_id': '0',\n  'shape_id': '16',\n  'wheelchair_accessible': '1',\n  'peak_offpeak': '0',\n  'route': 'New Haven',\n  'agency': 'Metro-North Railroad',\n  'route_type': 'Rail',\n  'route_color': 'EE0034',\n  'route_text_color': 'FFFFFF'},\n {'route_id': '3',\n  'service_id': '8447',\n  'trip_id': '10009392',\n  'trip_headsign': 'Grand Central',\n  'trip_short_name': '6303',\n  'direction_id': '1',\n  'shape_id': '5',\n  'wheelchair_accessible': '1',\n  'peak_offpeak': '0',\n  'route': 'New Haven',\n  'agency': 'Metro-North Railroad',\n  'route_type': 'Rail',\n  'route_color': 'EE0034',\n  'route_text_color': 'FFFFFF'},\n {'route_id': '3',\n  'service_id': '8447',\n  'trip_id': '10009393',\n  'trip_headsign': 'Stamford',\n  'trip_short_name': '6304',\n  'direction_id': '0',\n  'shape_id': '16',\n  'wheelchair_accessible': '1',\n  'peak_offpeak': '0',\n  'route': 'New Haven',\n  'agency': 'Metro-North Railroad',\n  'route_type': 'Rail',\n  'route_color': 'EE0034',\n  'route_text_color': 'FFFFFF'},\n {'route_id': '3',\n  'service_id': '8447',\n  'trip_id': '10009394',\n  'trip_headsign': 'Grand Central',\n  'trip_short_name': '6305',\n  'direction_id': '1',\n  'shape_id': '5',\n  'wheelchair_accessible': '1',\n  'peak_offpeak': '0',\n  'route': 'New Haven',\n  'agency': 'Metro-North Railroad',\n  'route_type': 'Rail',\n  'route_color': 'EE0034',\n  'route_text_color': 'FFFFFF'},\n {'route_id': '3',\n  'service_id': '8447',\n  'trip_id': '10009395',\n  'trip_headsign': 'Stamford',\n  'trip_short_name': '6306',\n  'direction_id': '0',\n  'shape_id': '16',\n  'wheelchair_accessible': '1',\n  'peak_offpeak': '0',\n  'route': 'New Haven',\n  'agency': 'Metro-North Railroad',\n  'route_type': 'Rail',\n  'route_color': 'EE0034',\n  'route_text_color': 'FFFFFF'},\n {'route_id': '3',\n  'service_id': '8447',\n  'trip_id': '10009396',\n  'trip_headsign': 'Grand Central',\n  'trip_short_name': '6309',\n  'direction_id': '1',\n  'shape_id': '5',\n  'wheelchair_accessible': '1',\n  'peak_offpeak': '0',\n  'route': 'New Haven',\n  'agency': 'Metro-North Railroad',\n  'route_type': 'Rail',\n  'route_color': 'EE0034',\n  'route_text_color': 'FFFFFF'},\n {'route_id': '3',\n  'service_id': '8447',\n  'trip_id': '10009397',\n  'trip_headsign': 'Stamford',\n  'trip_short_name': '6310',\n  'direction_id': '0',\n  'shape_id': '16',\n  'wheelchair_accessible': '1',\n  'peak_offpeak': '0',\n  'route': 'New Haven',\n  'agency': 'Metro-North Railroad',\n  'route_type': 'Rail',\n  'route_color': 'EE0034',\n  'route_text_color': 'FFFFFF'},\n {'route_id': '3',\n  'service_id': '8447',\n  'trip_id': '10009398',\n  'trip_headsign': 'Grand Central',\n  'trip_short_name': '6313',\n  'direction_id': '1',\n  'shape_id': '5',\n  'wheelchair_accessible': '1',\n  'peak_offpeak': '0',\n  'route': 'New Haven',\n  'agency': 'Metro-North Railroad',\n  'route_type': 'Rail',\n  'route_color': 'EE0034',\n  'route_text_color': 'FFFFFF'},\n {'route_id': '3',\n  'service_id': '8447',\n  'trip_id': '10009399',\n  'trip_headsign': 'Stamford',\n  'trip_short_name': '6314',\n  'direction_id': '0',\n  'shape_id': '16',\n  'wheelchair_accessible': '1',\n  'peak_offpeak': '0',\n  'route': 'New Haven',\n  'agency': 'Metro-North Railroad',\n  'route_type': 'Rail',\n  'route_color': 'EE0034',\n  'route_text_color': 'FFFFFF'},\n {'route_id': '3',\n  'service_id': '8447',\n  'trip_id': '10009400',\n  'trip_headsign': 'Grand Central',\n  'trip_short_name': '6317',\n  'direction_id': '1',\n  'shape_id': '5',\n  'wheelchair_accessible': '1',\n  'peak_offpeak': '0',\n  'route': 'New Haven',\n  'agency': 'Metro-North Railroad',\n  'route_type': 'Rail',\n  'route_color': 'EE0034',\n  'route_text_color': 'FFFFFF'},\n {'route_id': '3',\n  'service_id': '8447',\n  'trip_id': '10009401',\n  'trip_headsign': 'Stamford',\n  'trip_short_name': '6318',\n  'direction_id': '0',\n  'shape_id': '16',\n  'wheelchair_accessible': '1',\n  'peak_offpeak': '0',\n  'route': 'New Haven',\n  'agency': 'Metro-North Railroad',\n  'route_type': 'Rail',\n  'route_color': 'EE0034',\n  'route_text_color': 'FFFFFF'},\n {'route_id': '3',\n  'service_id': '8447',\n  'trip_id': '10009402',\n  'trip_headsign': 'Grand Central',\n  'trip_short_name': '6321',\n  'direction_id': '1',\n  'shape_id': '5',\n  'wheelchair_accessible': '1',\n  'peak_offpeak': '0',\n  'route': 'New Haven',\n  'agency': 'Metro-North Railroad',\n  'route_type': 'Rail',\n  'route_color': 'EE0034',\n  'route_text_color': 'FFFFFF'},\n ...]"
     },
     "metadata": {},
     "execution_count": 13
    }
   ],
   "source": [
    "# route_id,service_id,trip_id,trip_headsign,trip_short_name,direction_id,block_id,shape_id,wheelchair_accessible,peak_offpeak\n",
    "\n",
    "\n",
    "with open(os.path.join(base_gtfs, \"trips.txt\"), \"r\", newline=\"\") as infile:\n",
    "    reader = csv.DictReader(infile)\n",
    "    trips = []\n",
    "    for row in reader:\n",
    "        trip = row.copy()\n",
    "        trip.update(routes_by_route_id[trip[\"route_id\"]])\n",
    "        trip.pop(\"block_id\")\n",
    "        trips.append(trip)\n",
    "\n",
    "trips\n"
   ]
  },
  {
   "cell_type": "code",
   "execution_count": null,
   "metadata": {},
   "outputs": [],
   "source": [
    "# stop_id,stop_code,stop_name,stop_desc,stop_lat,stop_lon,zone_id,stop_url,location_type,parent_station,wheelchair_boarding\n",
    "LOCATION_TYPES = {\n",
    "    \"0\": \"station\",\n",
    "    \"1\": \"entrance/exit\",\n",
    "    \"2\": \"optional/generic\",\n",
    "    \"3\": \"boarding area\",\n",
    "}\n",
    "with open(os.path.join(base_gtfs, \"stops.txt\"), \"r\", newline=\"\") as infile:\n",
    "    reader = csv.DictReader(infile)\n",
    "    stops_by_id = {}\n",
    "    for row in reader:\n",
    "        stops_by_id[row[\"stop_id\"]] = {\n",
    "            \"stop_code\": row[\"stop_code\"],\n",
    "            \"stop_name\": row[\"stop_name\"],\n",
    "            \"stop_lat\": row[\"stop_lat\"],\n",
    "            \"stop_lon\": row[\"stop_lon\"],\n",
    "            \"location_type\": LOCATION_TYPES[row[\"location_type\"]],\n",
    "            \"wheelchair_boarding\": row[\"wheelchair_boarding\"],\n",
    "        }\n",
    "stops_by_id"
   ]
  },
  {
   "cell_type": "code",
   "execution_count": null,
   "metadata": {},
   "outputs": [],
   "source": [
    "# trip_id,arrival_time,departure_time,stop_id,stop_sequence,pickup_type,drop_off_type,track,note_id\n",
    "\n",
    "stop_times_by_trip_id = {}\n",
    "PICKUP_TYPES = {\n",
    "    \"0\": True,\n",
    "    None: True,\n",
    "    \"\": True,\n",
    "    \"1\": False,\n",
    "}\n",
    "DROPOFF_TYPES = {\n",
    "    \"0\": True,\n",
    "    None: True,\n",
    "    \"\": True,\n",
    "    \"1\": False,\n",
    "}\n",
    "with open(os.path.join(base_gtfs, \"stop_times.txt\"), \"r\", newline=\"\") as infile:\n",
    "    reader = csv.reader(infile)\n",
    "    rows = list(reader)[1:]\n",
    "    rows.sort(key=lambda row: (row[0], row[4], row[1], row[2]))\n",
    "    for trip_id,arrival_time,departure_time,stop_id,stop_sequence,pickup_type,drop_off_type,track,note_id in rows:\n",
    "        if trip_id not in stop_times_by_trip_id:\n",
    "            stop_times_by_trip_id[trip_id] = []\n",
    "        stop_time = {\n",
    "            \"stop_id\": stop_id,\n",
    "            \"arrival_time\": arrival_time,\n",
    "            \"departure_time\": departure_time,\n",
    "            \"stop_sequence\": stop_sequence,\n",
    "            \"track\": track,\n",
    "            \"drop_off\": DROPOFF_TYPES[drop_off_type],\n",
    "            \"pickup\": PICKUP_TYPES[pickup_type],\n",
    "        }\n",
    "        stop_time.update(stops_by_id[stop_id])\n",
    "        stop_time[\"note\"] = notes_by_note_id[note_id]\n",
    "        stop_times_by_trip_id[trip_id].append(stop_time)\n",
    "stop_times_by_trip_id"
   ]
  },
  {
   "cell_type": "code",
   "execution_count": 10,
   "metadata": {},
   "outputs": [
    {
     "output_type": "execute_result",
     "data": {
      "text/plain": "{'agency',\n 'arrival_time',\n 'block_id',\n 'date',\n 'departure_time',\n 'direction_id',\n 'drop_off',\n 'location_type',\n 'note',\n 'peak_offpeak',\n 'pickup',\n 'route',\n 'route_color',\n 'route_id',\n 'route_text_color',\n 'route_type',\n 'service_id',\n 'shape_id',\n 'stop_code',\n 'stop_id',\n 'stop_lat',\n 'stop_lon',\n 'stop_name',\n 'stop_sequence',\n 'track',\n 'trip_headsign',\n 'trip_id',\n 'trip_short_name',\n 'wheelchair_accessible',\n 'wheelchair_boarding'}"
     },
     "metadata": {},
     "execution_count": 10
    }
   ],
   "source": [
    "\n",
    "fieldnames = set(trips[0].keys())\n",
    "fieldnames |= set(stop_times_by_trip_id[trips[0][\"trip_id\"]][0].keys())\n",
    "fieldnames.add(\"date\")\n",
    "fieldnames\n"
   ]
  },
  {
   "cell_type": "code",
   "execution_count": 11,
   "metadata": {},
   "outputs": [],
   "source": [
    "fieldnames = [\n",
    " 'route_id',\n",
    " 'trip_id',\n",
    " 'service_id',\n",
    " 'route',\n",
    " 'date',\n",
    " 'agency',\n",
    " 'arrival_time',\n",
    " 'departure_time',\n",
    "#  'block_id',\n",
    " 'direction_id',\n",
    " 'location_type',\n",
    " 'route_type',\n",
    " 'route_color',\n",
    " 'route_text_color',\n",
    " 'shape_id',\n",
    " 'stop_code',\n",
    " 'stop_id',\n",
    " 'stop_lat',\n",
    " 'stop_lon',\n",
    " 'stop_name',\n",
    " 'stop_sequence',\n",
    " 'track',\n",
    " 'trip_headsign',\n",
    " 'trip_short_name',\n",
    " 'pickup',\n",
    " 'drop_off',\n",
    " 'peak_offpeak',\n",
    " 'note',\n",
    " 'wheelchair_accessible',\n",
    " 'wheelchair_boarding'\n",
    "]"
   ]
  },
  {
   "cell_type": "code",
   "execution_count": 18,
   "metadata": {
    "tags": []
   },
   "outputs": [],
   "source": [
    "# x = trips[0].copy()\n",
    "# print(x)\n",
    "import datetime\n",
    "\n",
    "GTFS_FORMAT = \"%Y%m%d\"\n",
    "\n",
    "def floor24(t):\n",
    "    h, m, s = [int(i) for i in t.split(\":\")]\n",
    "    return \"{:02}:{:02}:{:02}\".format(h % 24, m, s)\n",
    "\n",
    "with open(\"timetable.csv\", \"w\", newline=\"\") as outfile:\n",
    "    writer = csv.DictWriter(outfile, fieldnames=fieldnames)\n",
    "    writer.writeheader()\n",
    "    for trip in trips:\n",
    "        for date in service_dates_by_id[trip[\"service_id\"]]:\n",
    "            for stop_time in stop_times_by_trip_id[trip[\"trip_id\"]]:\n",
    "                row = trip.copy()\n",
    "                row.update(stop_time)\n",
    "                target_date = date\n",
    "                time = row[\"arrival_time\"]\n",
    "                if time >= \"24:00:00\":\n",
    "                    dt = datetime.datetime.strptime(date, GTFS_FORMAT)\n",
    "                    dt += datetime.timedelta(days=1)\n",
    "                    target_date = dt.strftime(GTFS_FORMAT)\n",
    "                    row[\"arrival_time\"] = floor24(row[\"arrival_time\"])\n",
    "                    row[\"departure_time\"] = floor24(row[\"departure_time\"])\n",
    "                row[\"date\"] = target_date\n",
    "                writer.writerow(row)\n",
    "\n"
   ]
  },
  {
   "cell_type": "code",
   "execution_count": null,
   "metadata": {},
   "outputs": [],
   "source": []
  }
 ],
 "metadata": {
  "language_info": {
   "codemirror_mode": {
    "name": "ipython",
    "version": 3
   },
   "file_extension": ".py",
   "mimetype": "text/x-python",
   "name": "python",
   "nbconvert_exporter": "python",
   "pygments_lexer": "ipython3",
   "version": "3.8.2-final"
  },
  "orig_nbformat": 2,
  "kernelspec": {
   "name": "python_defaultSpec_1594906275107",
   "display_name": "Python 3.8.2 64-bit ('venv': venv)"
  }
 },
 "nbformat": 4,
 "nbformat_minor": 2
}