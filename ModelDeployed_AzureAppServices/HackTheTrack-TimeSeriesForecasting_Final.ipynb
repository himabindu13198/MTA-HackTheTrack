{
 "cells": [
  {
   "cell_type": "code",
   "execution_count": 1,
   "metadata": {},
   "outputs": [],
   "source": [
    "#importing libraries\n",
    "import itertools\n",
    "import pandas as pd\n",
    "import numpy as np\n",
    "import matplotlib.pyplot as plt\n",
    "import statsmodels.api as sm"
   ]
  },
  {
   "cell_type": "code",
   "execution_count": 3,
   "metadata": {},
   "outputs": [
    {
     "data": {
      "text/html": [
       "<div>\n",
       "<style scoped>\n",
       "    .dataframe tbody tr th:only-of-type {\n",
       "        vertical-align: middle;\n",
       "    }\n",
       "\n",
       "    .dataframe tbody tr th {\n",
       "        vertical-align: top;\n",
       "    }\n",
       "\n",
       "    .dataframe thead th {\n",
       "        text-align: right;\n",
       "    }\n",
       "</style>\n",
       "<table border=\"1\" class=\"dataframe\">\n",
       "  <thead>\n",
       "    <tr style=\"text-align: right;\">\n",
       "      <th></th>\n",
       "      <th>Unnamed: 0</th>\n",
       "      <th>route_id</th>\n",
       "      <th>trip_id</th>\n",
       "      <th>service_id</th>\n",
       "      <th>route</th>\n",
       "      <th>date</th>\n",
       "      <th>agency</th>\n",
       "      <th>arrival_time</th>\n",
       "      <th>departure_time</th>\n",
       "      <th>direction_id</th>\n",
       "      <th>...</th>\n",
       "      <th>trip_headsign</th>\n",
       "      <th>trip_short_name</th>\n",
       "      <th>pickup</th>\n",
       "      <th>drop_off</th>\n",
       "      <th>peak_offpeak</th>\n",
       "      <th>note</th>\n",
       "      <th>wheelchair_accessible</th>\n",
       "      <th>wheelchair_boarding</th>\n",
       "      <th>passenger_count</th>\n",
       "      <th>day_of_week</th>\n",
       "    </tr>\n",
       "  </thead>\n",
       "  <tbody>\n",
       "    <tr>\n",
       "      <th>0</th>\n",
       "      <td>1</td>\n",
       "      <td>3</td>\n",
       "      <td>10000299</td>\n",
       "      <td>8433</td>\n",
       "      <td>New Haven</td>\n",
       "      <td>2020-05-22</td>\n",
       "      <td>Metro-North Railroad</td>\n",
       "      <td>00:25:00</td>\n",
       "      <td>00:25:00</td>\n",
       "      <td>0</td>\n",
       "      <td>...</td>\n",
       "      <td>Stamford</td>\n",
       "      <td>6300.0</td>\n",
       "      <td>True</td>\n",
       "      <td>True</td>\n",
       "      <td>0</td>\n",
       "      <td>Regular Station Stop</td>\n",
       "      <td>1</td>\n",
       "      <td>1</td>\n",
       "      <td>52</td>\n",
       "      <td>Friday</td>\n",
       "    </tr>\n",
       "    <tr>\n",
       "      <th>1</th>\n",
       "      <td>2</td>\n",
       "      <td>3</td>\n",
       "      <td>10000299</td>\n",
       "      <td>8433</td>\n",
       "      <td>New Haven</td>\n",
       "      <td>2020-05-22</td>\n",
       "      <td>Metro-North Railroad</td>\n",
       "      <td>01:11:00</td>\n",
       "      <td>01:11:00</td>\n",
       "      <td>0</td>\n",
       "      <td>...</td>\n",
       "      <td>Stamford</td>\n",
       "      <td>6300.0</td>\n",
       "      <td>True</td>\n",
       "      <td>True</td>\n",
       "      <td>0</td>\n",
       "      <td>Regular Station Stop</td>\n",
       "      <td>1</td>\n",
       "      <td>1</td>\n",
       "      <td>55</td>\n",
       "      <td>Friday</td>\n",
       "    </tr>\n",
       "    <tr>\n",
       "      <th>2</th>\n",
       "      <td>3</td>\n",
       "      <td>3</td>\n",
       "      <td>10000299</td>\n",
       "      <td>8433</td>\n",
       "      <td>New Haven</td>\n",
       "      <td>2020-05-22</td>\n",
       "      <td>Metro-North Railroad</td>\n",
       "      <td>01:14:00</td>\n",
       "      <td>01:14:00</td>\n",
       "      <td>0</td>\n",
       "      <td>...</td>\n",
       "      <td>Stamford</td>\n",
       "      <td>6300.0</td>\n",
       "      <td>True</td>\n",
       "      <td>True</td>\n",
       "      <td>0</td>\n",
       "      <td>Regular Station Stop</td>\n",
       "      <td>1</td>\n",
       "      <td>0</td>\n",
       "      <td>59</td>\n",
       "      <td>Friday</td>\n",
       "    </tr>\n",
       "    <tr>\n",
       "      <th>3</th>\n",
       "      <td>4</td>\n",
       "      <td>3</td>\n",
       "      <td>10000299</td>\n",
       "      <td>8433</td>\n",
       "      <td>New Haven</td>\n",
       "      <td>2020-05-22</td>\n",
       "      <td>Metro-North Railroad</td>\n",
       "      <td>01:18:00</td>\n",
       "      <td>01:18:00</td>\n",
       "      <td>0</td>\n",
       "      <td>...</td>\n",
       "      <td>Stamford</td>\n",
       "      <td>6300.0</td>\n",
       "      <td>True</td>\n",
       "      <td>True</td>\n",
       "      <td>0</td>\n",
       "      <td>Regular Station Stop</td>\n",
       "      <td>1</td>\n",
       "      <td>1</td>\n",
       "      <td>66</td>\n",
       "      <td>Friday</td>\n",
       "    </tr>\n",
       "    <tr>\n",
       "      <th>4</th>\n",
       "      <td>5</td>\n",
       "      <td>3</td>\n",
       "      <td>10000299</td>\n",
       "      <td>8433</td>\n",
       "      <td>New Haven</td>\n",
       "      <td>2020-05-22</td>\n",
       "      <td>Metro-North Railroad</td>\n",
       "      <td>01:21:00</td>\n",
       "      <td>01:21:00</td>\n",
       "      <td>0</td>\n",
       "      <td>...</td>\n",
       "      <td>Stamford</td>\n",
       "      <td>6300.0</td>\n",
       "      <td>True</td>\n",
       "      <td>True</td>\n",
       "      <td>0</td>\n",
       "      <td>Regular Station Stop</td>\n",
       "      <td>1</td>\n",
       "      <td>0</td>\n",
       "      <td>72</td>\n",
       "      <td>Friday</td>\n",
       "    </tr>\n",
       "  </tbody>\n",
       "</table>\n",
       "<p>5 rows × 32 columns</p>\n",
       "</div>"
      ],
      "text/plain": [
       "   Unnamed: 0  route_id   trip_id  service_id      route        date  \\\n",
       "0           1         3  10000299        8433  New Haven  2020-05-22   \n",
       "1           2         3  10000299        8433  New Haven  2020-05-22   \n",
       "2           3         3  10000299        8433  New Haven  2020-05-22   \n",
       "3           4         3  10000299        8433  New Haven  2020-05-22   \n",
       "4           5         3  10000299        8433  New Haven  2020-05-22   \n",
       "\n",
       "                 agency arrival_time departure_time  direction_id  ...  \\\n",
       "0  Metro-North Railroad     00:25:00       00:25:00             0  ...   \n",
       "1  Metro-North Railroad     01:11:00       01:11:00             0  ...   \n",
       "2  Metro-North Railroad     01:14:00       01:14:00             0  ...   \n",
       "3  Metro-North Railroad     01:18:00       01:18:00             0  ...   \n",
       "4  Metro-North Railroad     01:21:00       01:21:00             0  ...   \n",
       "\n",
       "  trip_headsign trip_short_name pickup drop_off  peak_offpeak  \\\n",
       "0      Stamford          6300.0   True     True             0   \n",
       "1      Stamford          6300.0   True     True             0   \n",
       "2      Stamford          6300.0   True     True             0   \n",
       "3      Stamford          6300.0   True     True             0   \n",
       "4      Stamford          6300.0   True     True             0   \n",
       "\n",
       "                   note  wheelchair_accessible  wheelchair_boarding  \\\n",
       "0  Regular Station Stop                      1                    1   \n",
       "1  Regular Station Stop                      1                    1   \n",
       "2  Regular Station Stop                      1                    0   \n",
       "3  Regular Station Stop                      1                    1   \n",
       "4  Regular Station Stop                      1                    0   \n",
       "\n",
       "   passenger_count day_of_week  \n",
       "0               52      Friday  \n",
       "1               55      Friday  \n",
       "2               59      Friday  \n",
       "3               66      Friday  \n",
       "4               72      Friday  \n",
       "\n",
       "[5 rows x 32 columns]"
      ]
     },
     "execution_count": 3,
     "metadata": {},
     "output_type": "execute_result"
    }
   ],
   "source": [
    "#reading in data\n",
    "data = pd.read_csv('hackathon_data/data.csv')\n",
    "data.head()"
   ]
  },
  {
   "cell_type": "code",
   "execution_count": 4,
   "metadata": {},
   "outputs": [],
   "source": [
    "#merging date and time\n",
    "datetime = data['date'] + ' ' + data['departure_time']"
   ]
  },
  {
   "cell_type": "code",
   "execution_count": 5,
   "metadata": {},
   "outputs": [],
   "source": [
    "data['datetime'] = pd.to_datetime(datetime)\n",
    "#time feature of model"
   ]
  },
  {
   "cell_type": "code",
   "execution_count": 6,
   "metadata": {},
   "outputs": [
    {
     "data": {
      "text/html": [
       "<div>\n",
       "<style scoped>\n",
       "    .dataframe tbody tr th:only-of-type {\n",
       "        vertical-align: middle;\n",
       "    }\n",
       "\n",
       "    .dataframe tbody tr th {\n",
       "        vertical-align: top;\n",
       "    }\n",
       "\n",
       "    .dataframe thead th {\n",
       "        text-align: right;\n",
       "    }\n",
       "</style>\n",
       "<table border=\"1\" class=\"dataframe\">\n",
       "  <thead>\n",
       "    <tr style=\"text-align: right;\">\n",
       "      <th></th>\n",
       "      <th>datetime</th>\n",
       "      <th>passenger_count</th>\n",
       "    </tr>\n",
       "  </thead>\n",
       "  <tbody>\n",
       "    <tr>\n",
       "      <th>0</th>\n",
       "      <td>2020-05-22 00:25:00</td>\n",
       "      <td>52</td>\n",
       "    </tr>\n",
       "    <tr>\n",
       "      <th>1</th>\n",
       "      <td>2020-05-22 01:11:00</td>\n",
       "      <td>55</td>\n",
       "    </tr>\n",
       "    <tr>\n",
       "      <th>2</th>\n",
       "      <td>2020-05-22 01:14:00</td>\n",
       "      <td>59</td>\n",
       "    </tr>\n",
       "    <tr>\n",
       "      <th>3</th>\n",
       "      <td>2020-05-22 01:18:00</td>\n",
       "      <td>66</td>\n",
       "    </tr>\n",
       "    <tr>\n",
       "      <th>4</th>\n",
       "      <td>2020-05-22 01:21:00</td>\n",
       "      <td>72</td>\n",
       "    </tr>\n",
       "  </tbody>\n",
       "</table>\n",
       "</div>"
      ],
      "text/plain": [
       "             datetime  passenger_count\n",
       "0 2020-05-22 00:25:00               52\n",
       "1 2020-05-22 01:11:00               55\n",
       "2 2020-05-22 01:14:00               59\n",
       "3 2020-05-22 01:18:00               66\n",
       "4 2020-05-22 01:21:00               72"
      ]
     },
     "execution_count": 6,
     "metadata": {},
     "output_type": "execute_result"
    }
   ],
   "source": [
    "data_updated = data[['datetime','passenger_count']]\n",
    "data_updated.head()\n"
   ]
  },
  {
   "cell_type": "code",
   "execution_count": 7,
   "metadata": {},
   "outputs": [
    {
     "data": {
      "text/html": [
       "<div>\n",
       "<style scoped>\n",
       "    .dataframe tbody tr th:only-of-type {\n",
       "        vertical-align: middle;\n",
       "    }\n",
       "\n",
       "    .dataframe tbody tr th {\n",
       "        vertical-align: top;\n",
       "    }\n",
       "\n",
       "    .dataframe thead th {\n",
       "        text-align: right;\n",
       "    }\n",
       "</style>\n",
       "<table border=\"1\" class=\"dataframe\">\n",
       "  <thead>\n",
       "    <tr style=\"text-align: right;\">\n",
       "      <th></th>\n",
       "      <th>datetime</th>\n",
       "      <th>passenger_count</th>\n",
       "    </tr>\n",
       "  </thead>\n",
       "  <tbody>\n",
       "    <tr>\n",
       "      <th>2747140</th>\n",
       "      <td>2020-05-26 23:19:00</td>\n",
       "      <td>55</td>\n",
       "    </tr>\n",
       "    <tr>\n",
       "      <th>2747141</th>\n",
       "      <td>2020-05-26 23:30:00</td>\n",
       "      <td>59</td>\n",
       "    </tr>\n",
       "    <tr>\n",
       "      <th>2747142</th>\n",
       "      <td>2020-05-26 23:36:00</td>\n",
       "      <td>54</td>\n",
       "    </tr>\n",
       "    <tr>\n",
       "      <th>2747143</th>\n",
       "      <td>2020-05-26 23:56:00</td>\n",
       "      <td>70</td>\n",
       "    </tr>\n",
       "    <tr>\n",
       "      <th>2747144</th>\n",
       "      <td>2020-05-27 00:12:00</td>\n",
       "      <td>53</td>\n",
       "    </tr>\n",
       "  </tbody>\n",
       "</table>\n",
       "</div>"
      ],
      "text/plain": [
       "                   datetime  passenger_count\n",
       "2747140 2020-05-26 23:19:00               55\n",
       "2747141 2020-05-26 23:30:00               59\n",
       "2747142 2020-05-26 23:36:00               54\n",
       "2747143 2020-05-26 23:56:00               70\n",
       "2747144 2020-05-27 00:12:00               53"
      ]
     },
     "execution_count": 7,
     "metadata": {},
     "output_type": "execute_result"
    }
   ],
   "source": [
    "data_updated.tail()"
   ]
  },
  {
   "cell_type": "code",
   "execution_count": 8,
   "metadata": {},
   "outputs": [
    {
     "data": {
      "text/html": [
       "<div>\n",
       "<style scoped>\n",
       "    .dataframe tbody tr th:only-of-type {\n",
       "        vertical-align: middle;\n",
       "    }\n",
       "\n",
       "    .dataframe tbody tr th {\n",
       "        vertical-align: top;\n",
       "    }\n",
       "\n",
       "    .dataframe thead th {\n",
       "        text-align: right;\n",
       "    }\n",
       "</style>\n",
       "<table border=\"1\" class=\"dataframe\">\n",
       "  <thead>\n",
       "    <tr style=\"text-align: right;\">\n",
       "      <th></th>\n",
       "      <th>passenger_count</th>\n",
       "    </tr>\n",
       "    <tr>\n",
       "      <th>datetime</th>\n",
       "      <th></th>\n",
       "    </tr>\n",
       "  </thead>\n",
       "  <tbody>\n",
       "    <tr>\n",
       "      <th>2020-05-22 00:25:00</th>\n",
       "      <td>52</td>\n",
       "    </tr>\n",
       "    <tr>\n",
       "      <th>2020-05-22 01:11:00</th>\n",
       "      <td>55</td>\n",
       "    </tr>\n",
       "    <tr>\n",
       "      <th>2020-05-22 01:14:00</th>\n",
       "      <td>59</td>\n",
       "    </tr>\n",
       "    <tr>\n",
       "      <th>2020-05-22 01:18:00</th>\n",
       "      <td>66</td>\n",
       "    </tr>\n",
       "    <tr>\n",
       "      <th>2020-05-22 01:21:00</th>\n",
       "      <td>72</td>\n",
       "    </tr>\n",
       "  </tbody>\n",
       "</table>\n",
       "</div>"
      ],
      "text/plain": [
       "                     passenger_count\n",
       "datetime                            \n",
       "2020-05-22 00:25:00               52\n",
       "2020-05-22 01:11:00               55\n",
       "2020-05-22 01:14:00               59\n",
       "2020-05-22 01:18:00               66\n",
       "2020-05-22 01:21:00               72"
      ]
     },
     "execution_count": 8,
     "metadata": {},
     "output_type": "execute_result"
    }
   ],
   "source": [
    "# from datetime import datetime\n",
    "indexed_data = data_updated.set_index(['datetime'])\n",
    "indexed_data.head()\n",
    "# list(data['Month'])[-1]"
   ]
  },
  {
   "cell_type": "code",
   "execution_count": 9,
   "metadata": {},
   "outputs": [
    {
     "data": {
      "text/html": [
       "<div>\n",
       "<style scoped>\n",
       "    .dataframe tbody tr th:only-of-type {\n",
       "        vertical-align: middle;\n",
       "    }\n",
       "\n",
       "    .dataframe tbody tr th {\n",
       "        vertical-align: top;\n",
       "    }\n",
       "\n",
       "    .dataframe thead th {\n",
       "        text-align: right;\n",
       "    }\n",
       "</style>\n",
       "<table border=\"1\" class=\"dataframe\">\n",
       "  <thead>\n",
       "    <tr style=\"text-align: right;\">\n",
       "      <th></th>\n",
       "      <th>passenger_count</th>\n",
       "    </tr>\n",
       "    <tr>\n",
       "      <th>datetime</th>\n",
       "      <th></th>\n",
       "    </tr>\n",
       "  </thead>\n",
       "  <tbody>\n",
       "    <tr>\n",
       "      <th>2020-05-26 15:56:00</th>\n",
       "      <td>187</td>\n",
       "    </tr>\n",
       "    <tr>\n",
       "      <th>2020-05-26 16:08:00</th>\n",
       "      <td>199</td>\n",
       "    </tr>\n",
       "    <tr>\n",
       "      <th>2020-05-26 12:38:00</th>\n",
       "      <td>207</td>\n",
       "    </tr>\n",
       "    <tr>\n",
       "      <th>2020-05-26 12:50:00</th>\n",
       "      <td>212</td>\n",
       "    </tr>\n",
       "    <tr>\n",
       "      <th>2020-05-26 13:02:00</th>\n",
       "      <td>193</td>\n",
       "    </tr>\n",
       "    <tr>\n",
       "      <th>...</th>\n",
       "      <td>...</td>\n",
       "    </tr>\n",
       "    <tr>\n",
       "      <th>2020-05-26 23:19:00</th>\n",
       "      <td>55</td>\n",
       "    </tr>\n",
       "    <tr>\n",
       "      <th>2020-05-26 23:30:00</th>\n",
       "      <td>59</td>\n",
       "    </tr>\n",
       "    <tr>\n",
       "      <th>2020-05-26 23:36:00</th>\n",
       "      <td>54</td>\n",
       "    </tr>\n",
       "    <tr>\n",
       "      <th>2020-05-26 23:56:00</th>\n",
       "      <td>70</td>\n",
       "    </tr>\n",
       "    <tr>\n",
       "      <th>2020-05-27 00:12:00</th>\n",
       "      <td>53</td>\n",
       "    </tr>\n",
       "  </tbody>\n",
       "</table>\n",
       "<p>169 rows × 1 columns</p>\n",
       "</div>"
      ],
      "text/plain": [
       "                     passenger_count\n",
       "datetime                            \n",
       "2020-05-26 15:56:00              187\n",
       "2020-05-26 16:08:00              199\n",
       "2020-05-26 12:38:00              207\n",
       "2020-05-26 12:50:00              212\n",
       "2020-05-26 13:02:00              193\n",
       "...                              ...\n",
       "2020-05-26 23:19:00               55\n",
       "2020-05-26 23:30:00               59\n",
       "2020-05-26 23:36:00               54\n",
       "2020-05-26 23:56:00               70\n",
       "2020-05-27 00:12:00               53\n",
       "\n",
       "[169 rows x 1 columns]"
      ]
     },
     "execution_count": 9,
     "metadata": {},
     "output_type": "execute_result"
    }
   ],
   "source": [
    "indexed_data.tail(24*7 + 1)"
   ]
  },
  {
   "cell_type": "code",
   "execution_count": 10,
   "metadata": {},
   "outputs": [
    {
     "data": {
      "image/png": "[encoded data removed]",
      "text/plain": [
       "<Figure size 1440x144 with 1 Axes>"
      ]
     },
     "metadata": {
      "needs_background": "light"
     },
     "output_type": "display_data"
    }
   ],
   "source": [
    "#printing seasonality in data\n",
    "import matplotlib.dates as mdates\n",
    "fig = plt.figure(figsize=(20, 2))\n",
    "ax = fig.add_subplot(111)\n",
    "ax.xaxis.set_major_formatter(mdates.DateFormatter('%Y-%m-%d %H:%M:%S'))\n",
    "plt.xlabel('Date-Time')\n",
    "plt.ylabel('Number of Passengers')\n",
    "plt.plot(indexed_data,linestyle='solid')\n",
    "plt.tight_layout()"
   ]
  },
  {
   "cell_type": "code",
   "execution_count": 10,
   "metadata": {},
   "outputs": [],
   "source": [
    "# #checking for autocorrelation\n",
    "# # autocorrelation\n",
    "# print(sm.graphics.tsa.acf(indexed_data, nlags=40))\n",
    "# # partial autocorrelation\n",
    "# print(sm.graphics.tsa.acf(indexed_data, nlags=40))"
   ]
  },
  {
   "cell_type": "code",
   "execution_count": 11,
   "metadata": {},
   "outputs": [],
   "source": [
    "# #ACF Plot\n",
    "# sm.graphics.tsa.plot_acf(indexed_data, lags=40)\n",
    "# plt.show()"
   ]
  },
  {
   "cell_type": "code",
   "execution_count": 12,
   "metadata": {},
   "outputs": [],
   "source": [
    "# #PACF Plot\n",
    "# sm.graphics.tsa.plot_pacf(indexed_data, lags=40)\n",
    "# plt.show()"
   ]
  },
  {
   "cell_type": "code",
   "execution_count": 11,
   "metadata": {},
   "outputs": [
    {
     "name": "stdout",
     "output_type": "stream",
     "text": [
      "Examples of parameter combinations for Seasonal ARIMA...\n",
      "SARIMAX: (0, 0, 1) x (0, 0, 1, 7)\n",
      "SARIMAX: (0, 0, 1) x (0, 1, 0, 7)\n",
      "SARIMAX: (0, 1, 0) x (0, 1, 1, 7)\n",
      "SARIMAX: (0, 1, 0) x (1, 0, 0, 7)\n"
     ]
    }
   ],
   "source": [
    "# Define the d and q parameters to take any value between 0 and 1\n",
    "q = d = range(0, 2)\n",
    "# Define the p parameters to take any value between 0 and 3\n",
    "p = range(0, 4)\n",
    "\n",
    "# Generate all different combinations of p, q and q triplets\n",
    "pdq = list(itertools.product(p, d, q))\n",
    "\n",
    "# Generate all different combinations of seasonal p, q and q triplets\n",
    "seasonal_pdq = [(x[0], x[1], x[2], 7) for x in list(itertools.product(p, d, q))]\n",
    "\n",
    "print('Examples of parameter combinations for Seasonal ARIMA...')\n",
    "print('SARIMAX: {} x {}'.format(pdq[1], seasonal_pdq[1]))\n",
    "print('SARIMAX: {} x {}'.format(pdq[1], seasonal_pdq[2]))\n",
    "print('SARIMAX: {} x {}'.format(pdq[2], seasonal_pdq[3]))\n",
    "print('SARIMAX: {} x {}'.format(pdq[2], seasonal_pdq[4]))"
   ]
  },
  {
   "cell_type": "code",
   "execution_count": 12,
   "metadata": {},
   "outputs": [],
   "source": [
    "train_data = indexed_data['2020-05-22 00:25:00':'2020-05-26 15:56:00']\n",
    "test_data = indexed_data['2020-05-26 16:08:00':'2020-05-27 00:12:00']"
   ]
  },
  {
   "cell_type": "code",
   "execution_count": 13,
   "metadata": {},
   "outputs": [
    {
     "name": "stdout",
     "output_type": "stream",
     "text": [
      "SARIMAX(0, 0, 0)x(2, 0, 1, 7) - AIC:214123.84288811334\r"
     ]
    }
   ],
   "source": [
    "#grid searching over all possible parameters\n",
    "import warnings\n",
    "warnings.filterwarnings(\"ignore\") # specify to ignore warning messages\n",
    "\n",
    "AIC = []\n",
    "SARIMAX_model = []\n",
    "counter = 0\n",
    "for param in pdq:\n",
    "    for param_seasonal in seasonal_pdq:\n",
    "        counter += 1\n",
    "        if(counter <= 10):\n",
    "            try:\n",
    "                mod = sm.tsa.statespace.SARIMAX(train_data,\n",
    "                                                order=param,\n",
    "                                                seasonal_order=param_seasonal,\n",
    "                                                enforce_stationarity=False,\n",
    "                                                enforce_invertibility=False)\n",
    "\n",
    "                results = mod.fit()\n",
    "\n",
    "                print('SARIMAX{}x{} - AIC:{}'.format(param, param_seasonal, results.aic), end='\\r')\n",
    "                AIC.append(results.aic)\n",
    "                SARIMAX_model.append([param, param_seasonal])\n",
    "            except:\n",
    "                continue"
   ]
  },
  {
   "cell_type": "code",
   "execution_count": 14,
   "metadata": {},
   "outputs": [
    {
     "name": "stdout",
     "output_type": "stream",
     "text": [
      "The smallest AIC is 214123.8428881133 for model SARIMAX(0, 0, 0)x(2, 0, 1, 7)\n"
     ]
    }
   ],
   "source": [
    "print('The smallest AIC is {} for model SARIMAX{}x{}'.format(min(AIC), SARIMAX_model[AIC.index(min(AIC))][0],SARIMAX_model[AIC.index(min(AIC))][1]))"
   ]
  },
  {
   "cell_type": "code",
   "execution_count": 15,
   "metadata": {},
   "outputs": [],
   "source": [
    "# Let's fit this model with the best params\n",
    "mod = sm.tsa.statespace.SARIMAX(train_data,\n",
    "                                order=SARIMAX_model[AIC.index(min(AIC))][0],\n",
    "                                seasonal_order=SARIMAX_model[AIC.index(min(AIC))][1],\n",
    "                                enforce_stationarity=False,\n",
    "                                enforce_invertibility=False)\n",
    "\n",
    "results = mod.fit()"
   ]
  },
  {
   "cell_type": "code",
   "execution_count": 16,
   "metadata": {},
   "outputs": [
    {
     "data": {
      "image/png": "[encoded data removed]",
      "text/plain": [
       "<Figure size 1440x1008 with 4 Axes>"
      ]
     },
     "metadata": {
      "needs_background": "light"
     },
     "output_type": "display_data"
    }
   ],
   "source": [
    "#residuals are normal\n",
    "results.plot_diagnostics(figsize=(20, 14))\n",
    "plt.show()"
   ]
  },
  {
   "cell_type": "code",
   "execution_count": null,
   "metadata": {},
   "outputs": [],
   "source": [
    "#table to return\n",
    "table = []"
   ]
  },
  {
   "cell_type": "code",
   "execution_count": null,
   "metadata": {},
   "outputs": [],
   "source": [
    "#predict count of passengers\n",
    "pred0 = results.get_prediction(start='2020-05-18 00:00:00', dynamic=False) #monday\n",
    "pred0_ci = pred0.conf_int()\n",
    "table.append(pred0.predicted_mean[2:8 + 24*7])"
   ]
  },
  {
   "cell_type": "code",
   "execution_count": 18,
   "metadata": {},
   "outputs": [],
   "source": [
    "#predict count of passengers\n",
    "pred1 = results.get_prediction(start='2020-05-19 00:00:00', dynamic=False) #tuesday\n",
    "pred1_ci = pred1.conf_int()\n",
    "# table.append(pred1.predicted_mean)\n",
    "table.append(pred1.predicted_mean[2:8 + 24*7])"
   ]
  },
  {
   "cell_type": "code",
   "execution_count": 19,
   "metadata": {},
   "outputs": [],
   "source": [
    "#predict count of passengers\n",
    "pred2 = results.get_prediction(start='2020-05-20 00:00:00', dynamic=False) #wednesday\n",
    "pred2_ci = pred1.conf_int()\n",
    "# table.append(pred2.predicted_mean)\n",
    "table.append(pred2.predicted_mean[2:8 + 24*7])"
   ]
  },
  {
   "cell_type": "code",
   "execution_count": null,
   "metadata": {},
   "outputs": [],
   "source": [
    "#predict count of passengers\n",
    "pred3 = results.get_prediction(start='2020-05-21 00:00:00', dynamic=False) #thursday\n",
    "pred3_ci = pred1.conf_int()\n",
    "# table.append(pred3.predicted_mean)\n",
    "table.append(pred3.predicted_mean[2:8 + 24*7])"
   ]
  },
  {
   "cell_type": "code",
   "execution_count": null,
   "metadata": {},
   "outputs": [],
   "source": [
    "#predict count of passengers\n",
    "pred4 = results.get_prediction(start='2020-05-22 00:00:00', dynamic=False) #friday\n",
    "pred4_ci = pred1.conf_int()\n",
    "# table.append(pred4.predicted_mean)\n",
    "table.append(pred4.predicted_mean[2:8 + 24*7])"
   ]
  },
  {
   "cell_type": "code",
   "execution_count": null,
   "metadata": {},
   "outputs": [],
   "source": [
    "#predict count of passengers\n",
    "pred5 = results.get_prediction(start='2020-05-23 00:00:00', dynamic=False) #sat\n",
    "pred5_ci = pred1.conf_int()\n",
    "# table.append(pred5.predicted_mean)\n",
    "table.append(pred5.predicted_mean[2:8 + 24*7])"
   ]
  },
  {
   "cell_type": "code",
   "execution_count": null,
   "metadata": {},
   "outputs": [],
   "source": [
    "#predict count of passengers\n",
    "pred6 = results.get_prediction(start='2020-05-24 00:00:00', dynamic=False) #sun\n",
    "pred6_ci = pred1.conf_int()\n",
    "# table.append(pred6.predicted_mean)\n",
    "table.append(pred6.predicted_mean[2:8 + 24*7])"
   ]
  },
  {
   "cell_type": "code",
   "execution_count": 25,
   "metadata": {},
   "outputs": [
    {
     "data": {
      "text/plain": [
       "datetime\n",
       "2020-05-22 01:21:00      0.000000\n",
       "2020-05-22 01:24:00      0.000000\n",
       "2020-05-22 01:27:00      0.000000\n",
       "2020-05-22 01:47:00     53.224669\n",
       "2020-05-22 00:35:00     56.253308\n",
       "                          ...    \n",
       "2020-05-26 13:44:00    147.612848\n",
       "2020-05-26 13:50:00    140.071986\n",
       "2020-05-26 14:10:00    138.720520\n",
       "2020-05-26 14:26:00    154.439211\n",
       "2020-05-26 15:54:00    172.636985\n",
       "Length: 21439, dtype: float64"
      ]
     },
     "execution_count": 25,
     "metadata": {},
     "output_type": "execute_result"
    }
   ],
   "source": [
    "pred0.predicted_mean"
   ]
  },
  {
   "cell_type": "code",
   "execution_count": null,
   "metadata": {},
   "outputs": [],
   "source": []
  },
  {
   "cell_type": "code",
   "execution_count": null,
   "metadata": {},
   "outputs": [],
   "source": []
  }
 ],
 "metadata": {
  "kernelspec": {
   "display_name": "Python 3",
   "language": "python",
   "name": "python3"
  },
  "language_info": {
   "codemirror_mode": {
    "name": "ipython",
    "version": 3
   },
   "file_extension": ".py",
   "mimetype": "text/x-python",
   "name": "python",
   "nbconvert_exporter": "python",
   "pygments_lexer": "ipython3",
   "version": "3.7.4"
  }
 },
 "nbformat": 4,
 "nbformat_minor": 4
}
